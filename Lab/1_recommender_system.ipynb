{
 "cells": [
  {
   "attachments": {},
   "cell_type": "markdown",
   "metadata": {},
   "source": [
    "# Recommender system"
   ]
  },
  {
   "cell_type": "code",
   "execution_count": 583,
   "metadata": {},
   "outputs": [],
   "source": [
    "import pandas as pd\n",
    "import matplotlib.pyplot as plt\n",
    "import seaborn as sns\n",
    "\n",
    "df_movies = pd.read_csv(\"../../_Data/ITHS_machine_learning_lab/ml-latest/movies.csv\")\n",
    "df_ratings = pd.read_csv(\"../../_Data/ITHS_machine_learning_lab/ml-latest/ratings.csv\")"
   ]
  },
  {
   "attachments": {},
   "cell_type": "markdown",
   "metadata": {},
   "source": [
    "## 1.1 EDA"
   ]
  },
  {
   "cell_type": "code",
   "execution_count": 382,
   "metadata": {},
   "outputs": [
    {
     "data": {
      "text/html": [
       "<div>\n",
       "<style scoped>\n",
       "    .dataframe tbody tr th:only-of-type {\n",
       "        vertical-align: middle;\n",
       "    }\n",
       "\n",
       "    .dataframe tbody tr th {\n",
       "        vertical-align: top;\n",
       "    }\n",
       "\n",
       "    .dataframe thead th {\n",
       "        text-align: right;\n",
       "    }\n",
       "</style>\n",
       "<table border=\"1\" class=\"dataframe\">\n",
       "  <thead>\n",
       "    <tr style=\"text-align: right;\">\n",
       "      <th></th>\n",
       "      <th>movieId</th>\n",
       "      <th>title</th>\n",
       "      <th>genres</th>\n",
       "    </tr>\n",
       "  </thead>\n",
       "  <tbody>\n",
       "    <tr>\n",
       "      <th>0</th>\n",
       "      <td>1</td>\n",
       "      <td>Toy Story (1995)</td>\n",
       "      <td>Adventure|Animation|Children|Comedy|Fantasy</td>\n",
       "    </tr>\n",
       "    <tr>\n",
       "      <th>1</th>\n",
       "      <td>2</td>\n",
       "      <td>Jumanji (1995)</td>\n",
       "      <td>Adventure|Children|Fantasy</td>\n",
       "    </tr>\n",
       "    <tr>\n",
       "      <th>2</th>\n",
       "      <td>3</td>\n",
       "      <td>Grumpier Old Men (1995)</td>\n",
       "      <td>Comedy|Romance</td>\n",
       "    </tr>\n",
       "    <tr>\n",
       "      <th>3</th>\n",
       "      <td>4</td>\n",
       "      <td>Waiting to Exhale (1995)</td>\n",
       "      <td>Comedy|Drama|Romance</td>\n",
       "    </tr>\n",
       "    <tr>\n",
       "      <th>4</th>\n",
       "      <td>5</td>\n",
       "      <td>Father of the Bride Part II (1995)</td>\n",
       "      <td>Comedy</td>\n",
       "    </tr>\n",
       "  </tbody>\n",
       "</table>\n",
       "</div>"
      ],
      "text/plain": [
       "   movieId                               title  \\\n",
       "0        1                    Toy Story (1995)   \n",
       "1        2                      Jumanji (1995)   \n",
       "2        3             Grumpier Old Men (1995)   \n",
       "3        4            Waiting to Exhale (1995)   \n",
       "4        5  Father of the Bride Part II (1995)   \n",
       "\n",
       "                                        genres  \n",
       "0  Adventure|Animation|Children|Comedy|Fantasy  \n",
       "1                   Adventure|Children|Fantasy  \n",
       "2                               Comedy|Romance  \n",
       "3                         Comedy|Drama|Romance  \n",
       "4                                       Comedy  "
      ]
     },
     "execution_count": 382,
     "metadata": {},
     "output_type": "execute_result"
    }
   ],
   "source": [
    "df_movies.head()"
   ]
  },
  {
   "cell_type": "code",
   "execution_count": 383,
   "metadata": {},
   "outputs": [
    {
     "data": {
      "text/html": [
       "<div>\n",
       "<style scoped>\n",
       "    .dataframe tbody tr th:only-of-type {\n",
       "        vertical-align: middle;\n",
       "    }\n",
       "\n",
       "    .dataframe tbody tr th {\n",
       "        vertical-align: top;\n",
       "    }\n",
       "\n",
       "    .dataframe thead th {\n",
       "        text-align: right;\n",
       "    }\n",
       "</style>\n",
       "<table border=\"1\" class=\"dataframe\">\n",
       "  <thead>\n",
       "    <tr style=\"text-align: right;\">\n",
       "      <th></th>\n",
       "      <th>userId</th>\n",
       "      <th>movieId</th>\n",
       "      <th>rating</th>\n",
       "      <th>timestamp</th>\n",
       "    </tr>\n",
       "  </thead>\n",
       "  <tbody>\n",
       "    <tr>\n",
       "      <th>0</th>\n",
       "      <td>1</td>\n",
       "      <td>307</td>\n",
       "      <td>3.5</td>\n",
       "      <td>1256677221</td>\n",
       "    </tr>\n",
       "    <tr>\n",
       "      <th>1</th>\n",
       "      <td>1</td>\n",
       "      <td>481</td>\n",
       "      <td>3.5</td>\n",
       "      <td>1256677456</td>\n",
       "    </tr>\n",
       "    <tr>\n",
       "      <th>2</th>\n",
       "      <td>1</td>\n",
       "      <td>1091</td>\n",
       "      <td>1.5</td>\n",
       "      <td>1256677471</td>\n",
       "    </tr>\n",
       "    <tr>\n",
       "      <th>3</th>\n",
       "      <td>1</td>\n",
       "      <td>1257</td>\n",
       "      <td>4.5</td>\n",
       "      <td>1256677460</td>\n",
       "    </tr>\n",
       "    <tr>\n",
       "      <th>4</th>\n",
       "      <td>1</td>\n",
       "      <td>1449</td>\n",
       "      <td>4.5</td>\n",
       "      <td>1256677264</td>\n",
       "    </tr>\n",
       "  </tbody>\n",
       "</table>\n",
       "</div>"
      ],
      "text/plain": [
       "   userId  movieId  rating   timestamp\n",
       "0       1      307     3.5  1256677221\n",
       "1       1      481     3.5  1256677456\n",
       "2       1     1091     1.5  1256677471\n",
       "3       1     1257     4.5  1256677460\n",
       "4       1     1449     4.5  1256677264"
      ]
     },
     "execution_count": 383,
     "metadata": {},
     "output_type": "execute_result"
    }
   ],
   "source": [
    "df_ratings.head()"
   ]
  },
  {
   "cell_type": "code",
   "execution_count": 384,
   "metadata": {},
   "outputs": [
    {
     "name": "stdout",
     "output_type": "stream",
     "text": [
      "<class 'pandas.core.frame.DataFrame'>\n",
      "RangeIndex: 58098 entries, 0 to 58097\n",
      "Data columns (total 3 columns):\n",
      " #   Column   Non-Null Count  Dtype \n",
      "---  ------   --------------  ----- \n",
      " 0   movieId  58098 non-null  int64 \n",
      " 1   title    58098 non-null  object\n",
      " 2   genres   58098 non-null  object\n",
      "dtypes: int64(1), object(2)\n",
      "memory usage: 1.3+ MB\n"
     ]
    }
   ],
   "source": [
    "df_movies.info() # 58098 movies"
   ]
  },
  {
   "cell_type": "code",
   "execution_count": 385,
   "metadata": {},
   "outputs": [
    {
     "name": "stdout",
     "output_type": "stream",
     "text": [
      "<class 'pandas.core.frame.DataFrame'>\n",
      "RangeIndex: 27753444 entries, 0 to 27753443\n",
      "Data columns (total 4 columns):\n",
      " #   Column     Dtype  \n",
      "---  ------     -----  \n",
      " 0   userId     int64  \n",
      " 1   movieId    int64  \n",
      " 2   rating     float64\n",
      " 3   timestamp  int64  \n",
      "dtypes: float64(1), int64(3)\n",
      "memory usage: 847.0 MB\n"
     ]
    }
   ],
   "source": [
    "df_ratings[\"userId\"].unique().shape # 283228 users\n",
    "df_ratings.info() # 27753444 ratings -> on average about 100 ratings per user"
   ]
  },
  {
   "cell_type": "code",
   "execution_count": 386,
   "metadata": {},
   "outputs": [
    {
     "data": {
      "text/plain": [
       "count    2.775344e+07\n",
       "mean     3.530445e+00\n",
       "std      1.066353e+00\n",
       "min      5.000000e-01\n",
       "25%      3.000000e+00\n",
       "50%      3.500000e+00\n",
       "75%      4.000000e+00\n",
       "max      5.000000e+00\n",
       "Name: rating, dtype: float64"
      ]
     },
     "execution_count": 386,
     "metadata": {},
     "output_type": "execute_result"
    }
   ],
   "source": [
    "df_ratings[\"rating\"].describe()"
   ]
  },
  {
   "cell_type": "code",
   "execution_count": 387,
   "metadata": {},
   "outputs": [
    {
     "data": {
      "text/plain": [
       "4.0    7394710\n",
       "3.0    5515668\n",
       "5.0    4071135\n",
       "3.5    3404360\n",
       "4.5    2373550\n",
       "2.0    1850627\n",
       "2.5    1373419\n",
       "1.0     886233\n",
       "0.5     442388\n",
       "1.5     441354\n",
       "Name: rating, dtype: int64"
      ]
     },
     "execution_count": 387,
     "metadata": {},
     "output_type": "execute_result"
    }
   ],
   "source": [
    "df_ratings[\"rating\"].value_counts()"
   ]
  },
  {
   "cell_type": "code",
   "execution_count": 408,
   "metadata": {},
   "outputs": [
    {
     "data": {
      "text/plain": [
       "Text(0.5, 1.0, 'Number of ratings')"
      ]
     },
     "execution_count": 408,
     "metadata": {},
     "output_type": "execute_result"
    },
    {
     "data": {
      "image/png": "[encoded data removed]",
      "text/plain": [
       "<Figure size 640x480 with 1 Axes>"
      ]
     },
     "metadata": {},
     "output_type": "display_data"
    }
   ],
   "source": [
    "sns.histplot(df_ratings, x = \"rating\", bins=10)\n",
    "plt.title(\"Number of ratings\")"
   ]
  },
  {
   "attachments": {},
   "cell_type": "markdown",
   "metadata": {},
   "source": [
    "### b) Top 10 most rated movies"
   ]
  },
  {
   "cell_type": "code",
   "execution_count": 409,
   "metadata": {},
   "outputs": [
    {
     "data": {
      "text/html": [
       "<div>\n",
       "<style scoped>\n",
       "    .dataframe tbody tr th:only-of-type {\n",
       "        vertical-align: middle;\n",
       "    }\n",
       "\n",
       "    .dataframe tbody tr th {\n",
       "        vertical-align: top;\n",
       "    }\n",
       "\n",
       "    .dataframe thead th {\n",
       "        text-align: right;\n",
       "    }\n",
       "</style>\n",
       "<table border=\"1\" class=\"dataframe\">\n",
       "  <thead>\n",
       "    <tr style=\"text-align: right;\">\n",
       "      <th></th>\n",
       "      <th>movieId</th>\n",
       "      <th>title</th>\n",
       "      <th>genres</th>\n",
       "    </tr>\n",
       "  </thead>\n",
       "  <tbody>\n",
       "    <tr>\n",
       "      <th>0</th>\n",
       "      <td>1</td>\n",
       "      <td>Toy Story (1995)</td>\n",
       "      <td>Adventure|Animation|Children|Comedy|Fantasy</td>\n",
       "    </tr>\n",
       "    <tr>\n",
       "      <th>108</th>\n",
       "      <td>110</td>\n",
       "      <td>Braveheart (1995)</td>\n",
       "      <td>Action|Drama|War</td>\n",
       "    </tr>\n",
       "    <tr>\n",
       "      <th>257</th>\n",
       "      <td>260</td>\n",
       "      <td>Star Wars: Episode IV - A New Hope (1977)</td>\n",
       "      <td>Action|Adventure|Sci-Fi</td>\n",
       "    </tr>\n",
       "    <tr>\n",
       "      <th>293</th>\n",
       "      <td>296</td>\n",
       "      <td>Pulp Fiction (1994)</td>\n",
       "      <td>Comedy|Crime|Drama|Thriller</td>\n",
       "    </tr>\n",
       "    <tr>\n",
       "      <th>315</th>\n",
       "      <td>318</td>\n",
       "      <td>Shawshank Redemption, The (1994)</td>\n",
       "      <td>Crime|Drama</td>\n",
       "    </tr>\n",
       "    <tr>\n",
       "      <th>352</th>\n",
       "      <td>356</td>\n",
       "      <td>Forrest Gump (1994)</td>\n",
       "      <td>Comedy|Drama|Romance|War</td>\n",
       "    </tr>\n",
       "    <tr>\n",
       "      <th>476</th>\n",
       "      <td>480</td>\n",
       "      <td>Jurassic Park (1993)</td>\n",
       "      <td>Action|Adventure|Sci-Fi|Thriller</td>\n",
       "    </tr>\n",
       "    <tr>\n",
       "      <th>523</th>\n",
       "      <td>527</td>\n",
       "      <td>Schindler's List (1993)</td>\n",
       "      <td>Drama|War</td>\n",
       "    </tr>\n",
       "    <tr>\n",
       "      <th>587</th>\n",
       "      <td>593</td>\n",
       "      <td>Silence of the Lambs, The (1991)</td>\n",
       "      <td>Crime|Horror|Thriller</td>\n",
       "    </tr>\n",
       "    <tr>\n",
       "      <th>2487</th>\n",
       "      <td>2571</td>\n",
       "      <td>Matrix, The (1999)</td>\n",
       "      <td>Action|Sci-Fi|Thriller</td>\n",
       "    </tr>\n",
       "  </tbody>\n",
       "</table>\n",
       "</div>"
      ],
      "text/plain": [
       "      movieId                                      title  \\\n",
       "0           1                           Toy Story (1995)   \n",
       "108       110                          Braveheart (1995)   \n",
       "257       260  Star Wars: Episode IV - A New Hope (1977)   \n",
       "293       296                        Pulp Fiction (1994)   \n",
       "315       318           Shawshank Redemption, The (1994)   \n",
       "352       356                        Forrest Gump (1994)   \n",
       "476       480                       Jurassic Park (1993)   \n",
       "523       527                    Schindler's List (1993)   \n",
       "587       593           Silence of the Lambs, The (1991)   \n",
       "2487     2571                         Matrix, The (1999)   \n",
       "\n",
       "                                           genres  \n",
       "0     Adventure|Animation|Children|Comedy|Fantasy  \n",
       "108                              Action|Drama|War  \n",
       "257                       Action|Adventure|Sci-Fi  \n",
       "293                   Comedy|Crime|Drama|Thriller  \n",
       "315                                   Crime|Drama  \n",
       "352                      Comedy|Drama|Romance|War  \n",
       "476              Action|Adventure|Sci-Fi|Thriller  \n",
       "523                                     Drama|War  \n",
       "587                         Crime|Horror|Thriller  \n",
       "2487                       Action|Sci-Fi|Thriller  "
      ]
     },
     "execution_count": 409,
     "metadata": {},
     "output_type": "execute_result"
    }
   ],
   "source": [
    "top10_id = df_ratings.groupby(\"movieId\").count().sort_values(by = \"rating\", ascending=False).head(10).index\n",
    "\n",
    "df_movies[df_movies[\"movieId\"].isin(top10_id)]"
   ]
  },
  {
   "attachments": {},
   "cell_type": "markdown",
   "metadata": {},
   "source": [
    "### c) Top 10 ratings"
   ]
  },
  {
   "cell_type": "code",
   "execution_count": 530,
   "metadata": {},
   "outputs": [
    {
     "data": {
      "text/plain": [
       "count    826943.000000\n",
       "mean          4.102288\n",
       "std           0.939856\n",
       "min           0.500000\n",
       "25%           3.500000\n",
       "50%           4.000000\n",
       "75%           5.000000\n",
       "max           5.000000\n",
       "Name: rating, dtype: float64"
      ]
     },
     "execution_count": 530,
     "metadata": {},
     "output_type": "execute_result"
    }
   ],
   "source": [
    "# mean rating of top 10 movies is ~4.1\n",
    "df_ratings[df_ratings[\"movieId\"].isin(top10_id)][\"rating\"].describe()"
   ]
  },
  {
   "cell_type": "code",
   "execution_count": 411,
   "metadata": {},
   "outputs": [
    {
     "name": "stdout",
     "output_type": "stream",
     "text": [
      "Shawshank Redemption, The (1994)     Rating: 4.4\n",
      "Forrest Gump (1994)     Rating: 4.1\n",
      "Pulp Fiction (1994)     Rating: 4.2\n",
      "Silence of the Lambs, The (1991)     Rating: 4.2\n",
      "Matrix, The (1999)     Rating: 4.1\n",
      "Star Wars: Episode IV - A New Hope (1977)     Rating: 4.1\n",
      "Jurassic Park (1993)     Rating: 3.7\n",
      "Schindler's List (1993)     Rating: 4.3\n",
      "Braveheart (1995)     Rating: 4.0\n",
      "Toy Story (1995)     Rating: 3.9\n"
     ]
    }
   ],
   "source": [
    "for id in top10_id:\n",
    "    title = df_movies[df_movies[\"movieId\"] == id][\"title\"].values[0]\n",
    "    rating = df_ratings[df_ratings[\"movieId\"] == id][\"rating\"].mean()\n",
    "\n",
    "    print(f\"{title}     Rating: {rating:.1f}\")"
   ]
  },
  {
   "attachments": {},
   "cell_type": "markdown",
   "metadata": {},
   "source": [
    "### d) Years"
   ]
  },
  {
   "cell_type": "code",
   "execution_count": 584,
   "metadata": {},
   "outputs": [],
   "source": [
    "df_movies[\"year\"] = pd.Series(df_movies[\"title\"].str.extract(r'\\((\\d{4})\\)', expand=False), dtype=\"Int64\")"
   ]
  },
  {
   "cell_type": "code",
   "execution_count": 585,
   "metadata": {},
   "outputs": [
    {
     "data": {
      "text/html": [
       "<div>\n",
       "<style scoped>\n",
       "    .dataframe tbody tr th:only-of-type {\n",
       "        vertical-align: middle;\n",
       "    }\n",
       "\n",
       "    .dataframe tbody tr th {\n",
       "        vertical-align: top;\n",
       "    }\n",
       "\n",
       "    .dataframe thead th {\n",
       "        text-align: right;\n",
       "    }\n",
       "</style>\n",
       "<table border=\"1\" class=\"dataframe\">\n",
       "  <thead>\n",
       "    <tr style=\"text-align: right;\">\n",
       "      <th></th>\n",
       "      <th>movieId</th>\n",
       "      <th>title</th>\n",
       "      <th>genres</th>\n",
       "      <th>year</th>\n",
       "    </tr>\n",
       "  </thead>\n",
       "  <tbody>\n",
       "    <tr>\n",
       "      <th>10023</th>\n",
       "      <td>32930</td>\n",
       "      <td>Category 6: Day of Destruction</td>\n",
       "      <td>Action|Drama</td>\n",
       "      <td>&lt;NA&gt;</td>\n",
       "    </tr>\n",
       "    <tr>\n",
       "      <th>10613</th>\n",
       "      <td>40697</td>\n",
       "      <td>Babylon 5</td>\n",
       "      <td>Sci-Fi</td>\n",
       "      <td>&lt;NA&gt;</td>\n",
       "    </tr>\n",
       "    <tr>\n",
       "      <th>15719</th>\n",
       "      <td>79607</td>\n",
       "      <td>Millions Game, The (Das Millionenspiel)</td>\n",
       "      <td>Action|Drama|Sci-Fi|Thriller</td>\n",
       "      <td>&lt;NA&gt;</td>\n",
       "    </tr>\n",
       "    <tr>\n",
       "      <th>17444</th>\n",
       "      <td>87442</td>\n",
       "      <td>Bicycle, Spoon, Apple (Bicicleta, cullera, poma)</td>\n",
       "      <td>Documentary</td>\n",
       "      <td>&lt;NA&gt;</td>\n",
       "    </tr>\n",
       "    <tr>\n",
       "      <th>22651</th>\n",
       "      <td>107434</td>\n",
       "      <td>Diplomatic Immunity (2009– )</td>\n",
       "      <td>Comedy</td>\n",
       "      <td>&lt;NA&gt;</td>\n",
       "    </tr>\n",
       "    <tr>\n",
       "      <th>...</th>\n",
       "      <td>...</td>\n",
       "      <td>...</td>\n",
       "      <td>...</td>\n",
       "      <td>...</td>\n",
       "    </tr>\n",
       "    <tr>\n",
       "      <th>57504</th>\n",
       "      <td>192339</td>\n",
       "      <td>The Sign of Three</td>\n",
       "      <td>(no genres listed)</td>\n",
       "      <td>&lt;NA&gt;</td>\n",
       "    </tr>\n",
       "    <tr>\n",
       "      <th>57674</th>\n",
       "      <td>192829</td>\n",
       "      <td>Parwaaz Hai Junoon</td>\n",
       "      <td>Adventure|Children|Romance</td>\n",
       "      <td>&lt;NA&gt;</td>\n",
       "    </tr>\n",
       "    <tr>\n",
       "      <th>57789</th>\n",
       "      <td>193149</td>\n",
       "      <td>¿Qué te juegas?</td>\n",
       "      <td>(no genres listed)</td>\n",
       "      <td>&lt;NA&gt;</td>\n",
       "    </tr>\n",
       "    <tr>\n",
       "      <th>57903</th>\n",
       "      <td>193443</td>\n",
       "      <td>Wall</td>\n",
       "      <td>(no genres listed)</td>\n",
       "      <td>&lt;NA&gt;</td>\n",
       "    </tr>\n",
       "    <tr>\n",
       "      <th>57993</th>\n",
       "      <td>193657</td>\n",
       "      <td>A Kiss of Chaos</td>\n",
       "      <td>Action|Drama|Thriller</td>\n",
       "      <td>&lt;NA&gt;</td>\n",
       "    </tr>\n",
       "  </tbody>\n",
       "</table>\n",
       "<p>327 rows × 4 columns</p>\n",
       "</div>"
      ],
      "text/plain": [
       "       movieId                                             title  \\\n",
       "10023    32930                    Category 6: Day of Destruction   \n",
       "10613    40697                                         Babylon 5   \n",
       "15719    79607           Millions Game, The (Das Millionenspiel)   \n",
       "17444    87442  Bicycle, Spoon, Apple (Bicicleta, cullera, poma)   \n",
       "22651   107434                      Diplomatic Immunity (2009– )   \n",
       "...        ...                                               ...   \n",
       "57504   192339                                 The Sign of Three   \n",
       "57674   192829                                Parwaaz Hai Junoon   \n",
       "57789   193149                                   ¿Qué te juegas?   \n",
       "57903   193443                                              Wall   \n",
       "57993   193657                                   A Kiss of Chaos   \n",
       "\n",
       "                             genres  year  \n",
       "10023                  Action|Drama  <NA>  \n",
       "10613                        Sci-Fi  <NA>  \n",
       "15719  Action|Drama|Sci-Fi|Thriller  <NA>  \n",
       "17444                   Documentary  <NA>  \n",
       "22651                        Comedy  <NA>  \n",
       "...                             ...   ...  \n",
       "57504            (no genres listed)  <NA>  \n",
       "57674    Adventure|Children|Romance  <NA>  \n",
       "57789            (no genres listed)  <NA>  \n",
       "57903            (no genres listed)  <NA>  \n",
       "57993         Action|Drama|Thriller  <NA>  \n",
       "\n",
       "[327 rows x 4 columns]"
      ]
     },
     "execution_count": 585,
     "metadata": {},
     "output_type": "execute_result"
    }
   ],
   "source": [
    "# some movies have no year in title\n",
    "df_movies[df_movies[\"year\"].isnull()]"
   ]
  },
  {
   "cell_type": "code",
   "execution_count": 539,
   "metadata": {},
   "outputs": [
    {
     "data": {
      "image/png": "[encoded data removed]",
      "text/plain": [
       "<Figure size 640x480 with 1 Axes>"
      ]
     },
     "metadata": {},
     "output_type": "display_data"
    }
   ],
   "source": [
    "sns.barplot(x=df_movies[\"year\"].value_counts().index, y=df_movies[\"year\"].value_counts().values)\n",
    "plt.xticks(list(range(0,len(df_movies[\"year\"].unique()), 10)));\n",
    "plt.title(\"Movies per year\");"
   ]
  },
  {
   "attachments": {},
   "cell_type": "markdown",
   "metadata": {},
   "source": [
    "### e) Ratings"
   ]
  },
  {
   "cell_type": "code",
   "execution_count": 538,
   "metadata": {},
   "outputs": [
    {
     "data": {
      "image/png": "[encoded data removed]",
      "text/plain": [
       "<Figure size 640x480 with 1 Axes>"
      ]
     },
     "metadata": {},
     "output_type": "display_data"
    }
   ],
   "source": [
    "sorted_by_ratings = df_ratings.groupby(\"movieId\")[\"rating\"].count().sort_values(ascending=False)\n",
    "\n",
    "sns.lineplot(x = sorted_by_ratings.index, y = sorted_by_ratings)\n",
    "plt.title(\"Ratings per movie\");\n",
    "# there is a gap in movieIds for some reason"
   ]
  },
  {
   "attachments": {},
   "cell_type": "markdown",
   "metadata": {},
   "source": [
    "### f) Average ratings of films with most ratings"
   ]
  },
  {
   "cell_type": "code",
   "execution_count": 54,
   "metadata": {},
   "outputs": [
    {
     "data": {
      "image/png": "[encoded data removed]",
      "text/plain": [
       "<Figure size 640x480 with 1 Axes>"
      ]
     },
     "metadata": {},
     "output_type": "display_data"
    }
   ],
   "source": [
    "top10_ratings = df_ratings[df_ratings[\"movieId\"].isin(top10_id)].groupby(\"movieId\")[\"rating\"].mean().reset_index().sort_values(by = \"rating\", ascending=False)\n",
    "top10_titles = df_movies[df_movies[\"movieId\"].isin(top10_id)].loc[:,[\"movieId\", \"title\"]]\n",
    "\n",
    "top10_df = pd.merge(top10_ratings, top10_titles)\n",
    "\n",
    "sns.barplot(x=top10_df[\"title\"], y = top10_df[\"rating\"])\n",
    "plt.xticks(rotation=45, ha='right');"
   ]
  },
  {
   "attachments": {},
   "cell_type": "markdown",
   "metadata": {},
   "source": [
    "## 1.2 Create a sparse matrix"
   ]
  },
  {
   "cell_type": "code",
   "execution_count": 540,
   "metadata": {},
   "outputs": [
    {
     "data": {
      "text/plain": [
       "(27753444, 4)"
      ]
     },
     "execution_count": 540,
     "metadata": {},
     "output_type": "execute_result"
    }
   ],
   "source": [
    "df_ratings.shape"
   ]
  },
  {
   "cell_type": "code",
   "execution_count": 534,
   "metadata": {},
   "outputs": [
    {
     "name": "stdout",
     "output_type": "stream",
     "text": [
      "Removed 12573761 ratings, remaining: 15179683\n"
     ]
    }
   ],
   "source": [
    "# sparse matrix\n",
    "from scipy.sparse import csr_matrix # compressed sparse row matrix\n",
    "from scipy.sparse import csc_matrix # compressed sparse column matrix\n",
    "\n",
    "df_ratings_filtered = df_ratings\n",
    "\n",
    "# remove ratings from people who have few ratings since are unlikely to contribute to recommendations\n",
    "df = df_ratings_filtered.groupby(\"userId\")[\"rating\"].count()\n",
    "df = df[df < 10]\n",
    "df_ratings_filtered = df_ratings_filtered[~df_ratings_filtered[\"userId\"].isin(df.index)]\n",
    "\n",
    "# remove movies with rating below 3.5 as they are unlikely to be the best recommendations for most people\n",
    "df = df_ratings_filtered.groupby(\"movieId\")[\"rating\"].mean()\n",
    "df = df[df < 3.5]\n",
    "df_ratings_filtered = df_ratings_filtered[~df_ratings_filtered[\"movieId\"].isin(df.index)]\n",
    "\n",
    "# remove movies with few ratings as they are likely to be niche movies that are not the best recommendations for most people\n",
    "df = df_ratings_filtered.groupby(\"movieId\")[\"rating\"].count()\n",
    "df = df[df < 1000]\n",
    "df_ratings_filtered = df_ratings_filtered[~df_ratings_filtered[\"movieId\"].isin(df.index)]\n",
    "\n",
    "print(f\"Removed {len(df_ratings) - len(df_ratings_filtered)} ratings, remaining: {len(df_ratings_filtered)}\")"
   ]
  },
  {
   "cell_type": "code",
   "execution_count": 586,
   "metadata": {},
   "outputs": [],
   "source": [
    "# remove the same movies from df_movies\n",
    "df_movies_filtered = df_movies[df_movies[\"movieId\"].isin(df_ratings_filtered[\"movieId\"].unique())]"
   ]
  },
  {
   "cell_type": "code",
   "execution_count": 541,
   "metadata": {},
   "outputs": [],
   "source": [
    "# pivot table\n",
    "movies_users = df_ratings_filtered.pivot(index='movieId', columns='userId', values = 'rating').fillna(0)\n",
    "\n",
    "# sparse matrix\n",
    "matrix_movie_users = csc_matrix(movies_users.values)"
   ]
  },
  {
   "attachments": {},
   "cell_type": "markdown",
   "metadata": {},
   "source": [
    "## 1.3 Recommender system with KNN\n",
    "\n",
    "In this system, every movie is a vector of coordinates for every user's rating of that movie (0 for unrated). Since it uses cosine similarity, it only looks for similarity of direction, and not the length of projection. So given a movie that a set of users have rated, it will recommend the movies rated by the largest subset of those same users, regardless of the actual ratings.\n",
    "\n",
    "Recommender systems in general attempt to predict a user's rating of an item, given its rating of other items. A rating does not have to be explicit (like a review/like) but can be implicit (simply clicking on something shows interest). There are two main types of methods for recommender systems: content-based methods and collaborative filtering methods. The content-based approach uses item metadata to match a user with new items based on metadata from items linked to user. The collaborative filtering approach as I understand it instead tries to see what other users a user is similar to, recommending things those users have rated. Source: https://towardsdatascience.com/recommender-systems-a-complete-guide-to-machine-learning-models-96d3f94ea748\n",
    "\n",
    "So I guess our system with KNN using cosine similarity could be said to use implicit feedback (derived from explicit feedback) in a collaborative filtering approach."
   ]
  },
  {
   "cell_type": "code",
   "execution_count": 611,
   "metadata": {},
   "outputs": [],
   "source": [
    "from sklearn.neighbors import NearestNeighbors\n",
    "from fuzzywuzzy import process\n",
    "\n",
    "model_knn = NearestNeighbors(metric='cosine')\n",
    "\n",
    "# get the indices for movieIds in sparse matrix\n",
    "df_id_sparse = pd.DataFrame(movies_users.index)\n",
    "\n",
    "def recommender(movie_name, data=matrix_movie_users, model=model_knn, n_recommendations=5):\n",
    "    model.fit(data)\n",
    "\n",
    "    # (match, # of matches, index of match) so want [2] for index\n",
    "    idx = process.extractOne(movie_name, df_movies_filtered['title'])[2]\n",
    "    print(\"Movie selected: \", df_movies_filtered['title'][idx])\n",
    "\n",
    "    # convert index to sparse\n",
    "    id = df_movies_filtered[\"movieId\"][idx]\n",
    "    idx_sparse = df_id_sparse[df_id_sparse[\"movieId\"] == id].index[0]\n",
    "\n",
    "    print(\"Searching for recommendations...\")\n",
    "    distances, indices=model.kneighbors(data[idx_sparse], n_neighbors = n_recommendations+1)\n",
    "\n",
    "    for i in indices[0]:\n",
    "        # convert index to df_movies\n",
    "        id = df_id_sparse.iloc[i][\"movieId\"]\n",
    "\n",
    "        if i != idx_sparse:\n",
    "            print(df_movies_filtered[df_movies_filtered[\"movieId\"] == id][\"title\"].values[0])"
   ]
  },
  {
   "cell_type": "code",
   "execution_count": 609,
   "metadata": {},
   "outputs": [
    {
     "name": "stdout",
     "output_type": "stream",
     "text": [
      "Movie selected:  Toy Story (1995)\n",
      "Searching for recommendations...\n",
      "Star Wars: Episode IV - A New Hope (1977)\n",
      "Toy Story 2 (1999)\n",
      "Back to the Future (1985)\n",
      "Jurassic Park (1993)\n",
      "Forrest Gump (1994)\n"
     ]
    }
   ],
   "source": [
    "recommender('toy story')"
   ]
  },
  {
   "cell_type": "code",
   "execution_count": 610,
   "metadata": {},
   "outputs": [
    {
     "name": "stdout",
     "output_type": "stream",
     "text": [
      "Movie selected:  Amadeus (1984)\n",
      "Searching for recommendations...\n",
      "Graduate, The (1967)\n",
      "Apocalypse Now (1979)\n",
      "Wizard of Oz, The (1939)\n",
      "Citizen Kane (1941)\n",
      "2001: A Space Odyssey (1968)\n"
     ]
    }
   ],
   "source": [
    "recommender('Amadeus')"
   ]
  },
  {
   "cell_type": "code",
   "execution_count": 595,
   "metadata": {},
   "outputs": [
    {
     "name": "stdout",
     "output_type": "stream",
     "text": [
      "Movie selected:  Lord of the Rings: The Fellowship of the Ring, The (2001)\n",
      "Searching for recommendations...\n",
      "Lord of the Rings: The Two Towers, The (2002)\n",
      "Lord of the Rings: The Return of the King, The (2003)\n",
      "Matrix, The (1999)\n",
      "Pirates of the Caribbean: The Curse of the Black Pearl (2003)\n",
      "Shrek (2001)\n"
     ]
    }
   ],
   "source": [
    "recommender('Fellowship of the ring')"
   ]
  },
  {
   "cell_type": "code",
   "execution_count": 596,
   "metadata": {},
   "outputs": [
    {
     "name": "stdout",
     "output_type": "stream",
     "text": [
      "Movie selected:  Blade Runner 2049 (2017)\n",
      "Searching for recommendations...\n",
      "Dunkirk (2017)\n",
      "Three Billboards Outside Ebbing, Missouri (2017)\n",
      "Thor: Ragnarok (2017)\n",
      "Baby Driver (2017)\n",
      "Arrival (2016)\n"
     ]
    }
   ],
   "source": [
    "recommender('Blade Runner 2049')"
   ]
  },
  {
   "cell_type": "code",
   "execution_count": 597,
   "metadata": {},
   "outputs": [
    {
     "name": "stdout",
     "output_type": "stream",
     "text": [
      "Movie selected:  Arrival (2016)\n",
      "Searching for recommendations...\n",
      "Logan (2017)\n",
      "Rogue One: A Star Wars Story (2016)\n",
      "Doctor Strange (2016)\n",
      "The Martian (2015)\n",
      "Ex Machina (2015)\n"
     ]
    }
   ],
   "source": [
    "recommender('Arrival 2016')"
   ]
  }
 ],
 "metadata": {
  "kernelspec": {
   "display_name": "Machine-learning-Johan-Sandberg-JOvipl1k",
   "language": "python",
   "name": "python3"
  },
  "language_info": {
   "codemirror_mode": {
    "name": "ipython",
    "version": 3
   },
   "file_extension": ".py",
   "mimetype": "text/x-python",
   "name": "python",
   "nbconvert_exporter": "python",
   "pygments_lexer": "ipython3",
   "version": "3.10.9"
  },
  "orig_nbformat": 4,
  "vscode": {
   "interpreter": {
    "hash": "1e4bc79fae66b2429378e2e691fe7fe3824d6770dbb23257cb9bd1191246496f"
   }
  }
 },
 "nbformat": 4,
 "nbformat_minor": 2
}
